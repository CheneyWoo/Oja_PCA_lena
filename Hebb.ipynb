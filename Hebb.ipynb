{
 "cells": [
  {
   "cell_type": "code",
   "execution_count": 32,
   "metadata": {},
   "outputs": [
    {
     "name": "stdout",
     "output_type": "stream",
     "text": [
      "Learning stared. It takes sometime.\n",
      "(0, 2.073753)\n",
      "(200, 0.0027522093)\n",
      "(400, 0.001435751)\n",
      "(600, 0.0009716793)\n",
      "(800, 0.00073436607)\n",
      "(1000, 0.00059026404)\n",
      "(1200, 0.00049339264)\n",
      "(1400, 0.00042384118)\n",
      "(1600, 0.0003715467)\n",
      "(1800, 0.00033072275)\n",
      "(2000, 0.00029788984)\n",
      "(2200, 0.00027105995)\n",
      "(2400, 0.00024868237)\n",
      "(2600, 0.00022968375)\n",
      "(2800, 0.00021340797)\n",
      "(3000, 0.00019925881)\n",
      "(3200, 0.00018685858)\n",
      "(3400, 0.00017592905)\n",
      "(3600, 0.00016623165)\n",
      "(3800, 0.00015752793)\n",
      "(4000, 0.00014973836)\n",
      "(4200, 0.00014258473)\n",
      "(4400, 0.00013614651)\n",
      "(4600, 0.00013026471)\n",
      "(4800, 0.00012485986)\n",
      "(5000, 0.00011989218)\n",
      "(5200, 0.00011528219)\n",
      "(5400, 0.00011102991)\n",
      "(5600, 0.00010705582)\n",
      "(5800, 0.000103399674)\n",
      "(6000, 9.994224e-05)\n",
      "(6200, 9.676301e-05)\n",
      "(6400, 9.374274e-05)\n",
      "(6600, 9.0881455e-05)\n",
      "(6800, 8.825861e-05)\n",
      "(7000, 8.5715255e-05)\n",
      "(7200, 8.333085e-05)\n",
      "(7400, 8.110543e-05)\n",
      "(7600, 7.8959485e-05)\n",
      "(7800, 7.693277e-05)\n",
      "(8000, 7.498553e-05)\n",
      "(8200, 7.319725e-05)\n",
      "(8400, 7.144872e-05)\n",
      "(8600, 6.985915e-05)\n",
      "(8800, 6.822984e-05)\n",
      "(9000, 6.671975e-05)\n",
      "(9200, 6.52494e-05)\n",
      "(9400, 6.385853e-05)\n",
      "(9600, 6.254715e-05)\n",
      "(9800, 6.12755e-05)\n",
      "(10000, 6.000385e-05)\n",
      "('Accuracy:', 1.0)\n"
     ]
    }
   ],
   "source": [
    "import numpy as np\n",
    "import matplotlib.pyplot as plt\n",
    "import tensorflow as tf\n",
    "INPUT_SIZE = 30\n",
    "LR = 0.1\n",
    "N_CLASSES = 3\n",
    "\n",
    "p = np.array([[-1,1,1,1,-1,\\\n",
    "1,-1,-1,-1,1,\\\n",
    "1,-1,-1,-1,1,\\\n",
    "1,-1,-1,-1,1,\\\n",
    "1,-1,-1,-1,1,\\\n",
    "-1,1,1,1,-1],\n",
    "[-1,1,1,-1,-1,\\\n",
    "-1,-1,1,-1,-1,\\\n",
    "-1,-1,1,-1,-1,\\\n",
    "-1,-1,1,-1,-1,\\\n",
    "-1,-1,1,-1,-1,\\\n",
    "-1,-1,1,-1,-1],\n",
    "[1,1,1,-1,-1,\\\n",
    "-1,-1,-1,1,-1,\\\n",
    "-1,-1,-1,1,-1,\\\n",
    "-1,1,1,-1,-1,\\\n",
    "-1,1,-1,-1,-1,\\\n",
    "-1,1,1,1,1]])\n",
    "labels = [[1, 0, 0], \n",
    "             [0, 1, 0], \n",
    "             [0, 0, 1]]\n",
    "X = tf.placeholder(tf.float32, [None, INPUT_SIZE])\n",
    "Y = tf.placeholder(tf.float32, [None, N_CLASSES])\n",
    "\n",
    "W = tf.Variable(tf.random_normal([INPUT_SIZE, N_CLASSES]))\n",
    "b = tf.Variable(tf.random_normal([N_CLASSES]))\n",
    "\n",
    "hypothesis = tf.nn.softmax(tf.matmul(X, W) + b)\n",
    "\n",
    "cost = tf.reduce_mean(-tf.reduce_sum(Y * tf.log(hypothesis), axis=1))\n",
    "optimizer = tf.train.GradientDescentOptimizer(learning_rate=LR).minimize(cost)\n",
    "\n",
    "sess = tf.Session()\n",
    "sess.run(tf.global_variables_initializer())\n",
    "\n",
    "print('Learning stared. It takes sometime.')\n",
    "for step in range(10001):\n",
    "    cost_val, _ = sess.run([cost, optimizer], feed_dict={X: p, Y: labels})\n",
    "    if step % 200 == 0:\n",
    "           print(step, cost_val)\n",
    "\n",
    "correct_prediction = tf.equal(tf.argmax(hypothesis, 1), tf.argmax(Y, 1))\n",
    "accuracy = tf.reduce_mean(tf.cast(correct_prediction, tf.float32))\n",
    "print('Accuracy:', sess.run(accuracy, feed_dict={X: p, Y: labels}))"
   ]
  },
  {
   "cell_type": "code",
   "execution_count": 38,
   "metadata": {},
   "outputs": [
    {
     "name": "stdout",
     "output_type": "stream",
     "text": [
      "('Label:', array([2]))\n",
      "('Prediction:', array([2]))\n"
     ]
    },
    {
     "data": {
      "image/png": "[encoded data removed]",
      "text/plain": [
       "<Figure size 432x288 with 1 Axes>"
      ]
     },
     "metadata": {},
     "output_type": "display_data"
    }
   ],
   "source": [
    "import random\n",
    "r = random.randint(0,  2)\n",
    "print(\"Label:\", sess.run(tf.argmax(labels[r:r+1], 1)))\n",
    "print(\"Prediction:\", sess.run(tf.argmax(hypothesis, 1), feed_dict={X: p[r:r + 1]}))\n",
    "\n",
    "plt.imshow(p[r:r + 1].reshape(6, 5), cmap='Blues', interpolation='nearest')\n",
    "plt.show()"
   ]
  },
  {
   "cell_type": "code",
   "execution_count": null,
   "metadata": {},
   "outputs": [],
   "source": []
  }
 ],
 "metadata": {
  "kernelspec": {
   "display_name": "Python 2",
   "language": "python",
   "name": "python2"
  },
  "language_info": {
   "codemirror_mode": {
    "name": "ipython",
    "version": 2
   },
   "file_extension": ".py",
   "mimetype": "text/x-python",
   "name": "python",
   "nbconvert_exporter": "python",
   "pygments_lexer": "ipython2",
   "version": "2.7.15"
  }
 },
 "nbformat": 4,
 "nbformat_minor": 2
}
